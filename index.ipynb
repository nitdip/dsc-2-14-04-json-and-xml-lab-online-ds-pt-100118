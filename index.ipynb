{
 "cells": [
  {
   "cell_type": "markdown",
   "metadata": {},
   "source": [
    "# JSON and XML - Lab"
   ]
  },
  {
   "cell_type": "markdown",
   "metadata": {},
   "source": [
    "## Introduction\n",
    "\n",
    "In this lab, we'll continue investigating new formats for datasets. Specifically, we'll investigate two of the most popular data formats for the web: JSON and XML including strenghts and weaknesses."
   ]
  },
  {
   "cell_type": "markdown",
   "metadata": {},
   "source": [
    "## Objectives\n",
    "You will be able to:\n",
    "* Effectively use the JSON module to load and parse JSON documents\n",
    "* Read and access data stored in JSON and XML\n",
    "* Compare  and contrast the JSON and XML as data interchange types\n"
   ]
  },
  {
   "cell_type": "markdown",
   "metadata": {},
   "source": [
    "## XML"
   ]
  },
  {
   "cell_type": "code",
   "execution_count": 1,
   "metadata": {},
   "outputs": [],
   "source": [
    "import xml.etree.ElementTree as ET"
   ]
  },
  {
   "cell_type": "markdown",
   "metadata": {},
   "source": [
    "### Create an XML tree and retrieve the root tag."
   ]
  },
  {
   "cell_type": "code",
   "execution_count": 3,
   "metadata": {},
   "outputs": [],
   "source": [
    "#Your code here\n",
    "tree = ET.parse('nyc_2001_campaign_finance.xml')\n",
    "root = tree.getroot()"
   ]
  },
  {
   "cell_type": "markdown",
   "metadata": {},
   "source": [
    "### How many direct descendents does the root tag have?"
   ]
  },
  {
   "cell_type": "code",
   "execution_count": 4,
   "metadata": {},
   "outputs": [
    {
     "name": "stdout",
     "output_type": "stream",
     "text": [
      "1\n"
     ]
    }
   ],
   "source": [
    "#Answer: 1\n",
    "count = 0\n",
    "for baby_groot in root:\n",
    "    count += 1\n",
    "print(count)"
   ]
  },
  {
   "cell_type": "markdown",
   "metadata": {},
   "source": [
    "### How many different types of tags are there within the entire XML file?"
   ]
  },
  {
   "cell_type": "code",
   "execution_count": 6,
   "metadata": {},
   "outputs": [
    {
     "name": "stdout",
     "output_type": "stream",
     "text": [
      "13\n"
     ]
    }
   ],
   "source": [
    "# Your code here\n",
    "tags = []\n",
    "for i in root.iter(): #what does .iter() do?\n",
    "    # .iter() goes through all the sub generations\n",
    "    tags.append(i.tag)\n",
    "print(len(set(tags))) #what is set()"
   ]
  },
  {
   "cell_type": "markdown",
   "metadata": {},
   "source": [
    "### Create a DataFrame listing the number of each type of tag. \n",
    "Sort the DataFrame in descending order by the tag count. The first entry should demonstrate there are 286 row tags in the XML file.   \n",
    "(Your DataFrame will be a single column, so could also be thought of as a Series.)"
   ]
  },
  {
   "cell_type": "code",
   "execution_count": 8,
   "metadata": {},
   "outputs": [],
   "source": [
    "import pandas as pd"
   ]
  },
  {
   "cell_type": "code",
   "execution_count": 20,
   "metadata": {},
   "outputs": [
    {
     "data": {
      "text/html": [
       "<div>\n",
       "<style scoped>\n",
       "    .dataframe tbody tr th:only-of-type {\n",
       "        vertical-align: middle;\n",
       "    }\n",
       "\n",
       "    .dataframe tbody tr th {\n",
       "        vertical-align: top;\n",
       "    }\n",
       "\n",
       "    .dataframe thead th {\n",
       "        text-align: right;\n",
       "    }\n",
       "</style>\n",
       "<table border=\"1\" class=\"dataframe\">\n",
       "  <thead>\n",
       "    <tr style=\"text-align: right;\">\n",
       "      <th></th>\n",
       "      <th>count</th>\n",
       "    </tr>\n",
       "  </thead>\n",
       "  <tbody>\n",
       "    <tr>\n",
       "      <th>row</th>\n",
       "      <td>286</td>\n",
       "    </tr>\n",
       "    <tr>\n",
       "      <th>candid</th>\n",
       "      <td>285</td>\n",
       "    </tr>\n",
       "    <tr>\n",
       "      <th>candname</th>\n",
       "      <td>285</td>\n",
       "    </tr>\n",
       "    <tr>\n",
       "      <th>canclass</th>\n",
       "      <td>285</td>\n",
       "    </tr>\n",
       "    <tr>\n",
       "      <th>election</th>\n",
       "      <td>284</td>\n",
       "    </tr>\n",
       "  </tbody>\n",
       "</table>\n",
       "</div>"
      ],
      "text/plain": [
       "          count\n",
       "row         286\n",
       "candid      285\n",
       "candname    285\n",
       "canclass    285\n",
       "election    284"
      ]
     },
     "execution_count": 20,
     "metadata": {},
     "output_type": "execute_result"
    }
   ],
   "source": [
    "#Your code here\n",
    "tags = {}\n",
    "for element in root.iter():\n",
    "    tags[element.tag] = tags.get(element.tag, 0) + 1\n",
    "df = pd.DataFrame.from_dict(tags, orient='index')\n",
    "df.columns = ['count']\n",
    "df = df.sort_values(by='count', ascending=False)\n",
    "df.head()"
   ]
  },
  {
   "cell_type": "code",
   "execution_count": 11,
   "metadata": {},
   "outputs": [
    {
     "data": {
      "text/plain": [
       "{'response': 1,\n",
       " 'row': 286,\n",
       " 'candid': 285,\n",
       " 'candname': 285,\n",
       " 'officeboro': 21,\n",
       " 'canclass': 285,\n",
       " 'election': 284,\n",
       " 'officecd': 284,\n",
       " 'officedist': 245,\n",
       " 'primarypay': 284,\n",
       " 'generalpay': 284,\n",
       " 'runoffpay': 284,\n",
       " 'totalpay': 284}"
      ]
     },
     "execution_count": 11,
     "metadata": {},
     "output_type": "execute_result"
    }
   ],
   "source": [
    "tags"
   ]
  },
  {
   "cell_type": "markdown",
   "metadata": {},
   "source": [
    "## JSON"
   ]
  },
  {
   "cell_type": "markdown",
   "metadata": {},
   "source": [
    "### Open the same dataset from json"
   ]
  },
  {
   "cell_type": "code",
   "execution_count": 21,
   "metadata": {},
   "outputs": [],
   "source": [
    "#Your code here\n",
    "import json\n",
    "f = open('nyc_2001_campaign_finance.json')\n",
    "data = json.load(f)"
   ]
  },
  {
   "cell_type": "markdown",
   "metadata": {},
   "source": [
    "### What is the root data type of the json file?"
   ]
  },
  {
   "cell_type": "code",
   "execution_count": 22,
   "metadata": {},
   "outputs": [
    {
     "data": {
      "text/plain": [
       "dict"
      ]
     },
     "execution_count": 22,
     "metadata": {},
     "output_type": "execute_result"
    }
   ],
   "source": [
    "### Your code here\n",
    "type(data)"
   ]
  },
  {
   "cell_type": "markdown",
   "metadata": {},
   "source": [
    "### Navigate to the 'data' key of your loaded json object. What data type is this?"
   ]
  },
  {
   "cell_type": "code",
   "execution_count": 25,
   "metadata": {},
   "outputs": [
    {
     "data": {
      "text/plain": [
       "list"
      ]
     },
     "execution_count": 25,
     "metadata": {},
     "output_type": "execute_result"
    }
   ],
   "source": [
    "#Your code here\n",
    "type(data['data'])"
   ]
  },
  {
   "cell_type": "markdown",
   "metadata": {},
   "source": [
    "### Preview the first entry from the value returned by the 'data' key above."
   ]
  },
  {
   "cell_type": "code",
   "execution_count": 27,
   "metadata": {},
   "outputs": [
    {
     "data": {
      "text/plain": [
       "[1,\n",
       " 'E3E9CC9F-7443-43F6-94AF-B5A0F802DBA1',\n",
       " 1,\n",
       " 1315925633,\n",
       " '392904',\n",
       " 1315925633,\n",
       " '392904',\n",
       " '{\\n  \"invalidCells\" : {\\n    \"1519001\" : \"TOTALPAY\",\\n    \"1518998\" : \"PRIMARYPAY\",\\n    \"1519000\" : \"RUNOFFPAY\",\\n    \"1518999\" : \"GENERALPAY\",\\n    \"1518994\" : \"OFFICECD\",\\n    \"1518996\" : \"OFFICEDIST\",\\n    \"1518991\" : \"ELECTION\"\\n  }\\n}',\n",
       " None,\n",
       " 'CANDID',\n",
       " 'CANDNAME',\n",
       " None,\n",
       " 'OFFICEBORO',\n",
       " None,\n",
       " 'CANCLASS',\n",
       " None,\n",
       " None,\n",
       " None,\n",
       " None]"
      ]
     },
     "execution_count": 27,
     "metadata": {},
     "output_type": "execute_result"
    }
   ],
   "source": [
    "#Your code here\n",
    "data['data'][0]"
   ]
  },
  {
   "cell_type": "markdown",
   "metadata": {},
   "source": [
    "### Preview the Entry under meta -> view -> columns (the keys of three successively nested dictionaries)"
   ]
  },
  {
   "cell_type": "code",
   "execution_count": 32,
   "metadata": {},
   "outputs": [],
   "source": [
    "columns = data['meta']['view']['columns']"
   ]
  },
  {
   "cell_type": "markdown",
   "metadata": {},
   "source": [
    "### Create a DataFrame from your json data\n",
    "The previous two questions previewed one entry from the data object within the json file, as well as the column details associated with that data from the meta entry within the json file. Both should have 19 entries. Create a DataFrame of the data. Be sure to use the information from the meta entry to add appropriate column names to your DataFrame."
   ]
  },
  {
   "cell_type": "code",
   "execution_count": 34,
   "metadata": {},
   "outputs": [
    {
     "data": {
      "text/html": [
       "<div>\n",
       "<style scoped>\n",
       "    .dataframe tbody tr th:only-of-type {\n",
       "        vertical-align: middle;\n",
       "    }\n",
       "\n",
       "    .dataframe tbody tr th {\n",
       "        vertical-align: top;\n",
       "    }\n",
       "\n",
       "    .dataframe thead th {\n",
       "        text-align: right;\n",
       "    }\n",
       "</style>\n",
       "<table border=\"1\" class=\"dataframe\">\n",
       "  <thead>\n",
       "    <tr style=\"text-align: right;\">\n",
       "      <th></th>\n",
       "      <th>sid</th>\n",
       "      <th>id</th>\n",
       "      <th>position</th>\n",
       "      <th>created_at</th>\n",
       "      <th>created_meta</th>\n",
       "      <th>updated_at</th>\n",
       "      <th>updated_meta</th>\n",
       "      <th>meta</th>\n",
       "      <th>ELECTION</th>\n",
       "      <th>CANDID</th>\n",
       "      <th>CANDNAME</th>\n",
       "      <th>OFFICECD</th>\n",
       "      <th>OFFICEBORO</th>\n",
       "      <th>OFFICEDIST</th>\n",
       "      <th>CANCLASS</th>\n",
       "      <th>PRIMARYPAY</th>\n",
       "      <th>GENERALPAY</th>\n",
       "      <th>RUNOFFPAY</th>\n",
       "      <th>TOTALPAY</th>\n",
       "    </tr>\n",
       "  </thead>\n",
       "  <tbody>\n",
       "    <tr>\n",
       "      <th>0</th>\n",
       "      <td>1</td>\n",
       "      <td>E3E9CC9F-7443-43F6-94AF-B5A0F802DBA1</td>\n",
       "      <td>1</td>\n",
       "      <td>1315925633</td>\n",
       "      <td>392904</td>\n",
       "      <td>1315925633</td>\n",
       "      <td>392904</td>\n",
       "      <td>{\\n  \"invalidCells\" : {\\n    \"1519001\" : \"TOTA...</td>\n",
       "      <td>None</td>\n",
       "      <td>CANDID</td>\n",
       "      <td>CANDNAME</td>\n",
       "      <td>None</td>\n",
       "      <td>OFFICEBORO</td>\n",
       "      <td>None</td>\n",
       "      <td>CANCLASS</td>\n",
       "      <td>None</td>\n",
       "      <td>None</td>\n",
       "      <td>None</td>\n",
       "      <td>None</td>\n",
       "    </tr>\n",
       "    <tr>\n",
       "      <th>1</th>\n",
       "      <td>2</td>\n",
       "      <td>9D257416-581A-4C42-85CC-B6EAD9DED97F</td>\n",
       "      <td>2</td>\n",
       "      <td>1315925633</td>\n",
       "      <td>392904</td>\n",
       "      <td>1315925633</td>\n",
       "      <td>392904</td>\n",
       "      <td>{\\n}</td>\n",
       "      <td>2001</td>\n",
       "      <td>B4</td>\n",
       "      <td>Aboulafia, Sandy</td>\n",
       "      <td>5</td>\n",
       "      <td>None</td>\n",
       "      <td>44</td>\n",
       "      <td>P</td>\n",
       "      <td>45410.00</td>\n",
       "      <td>0</td>\n",
       "      <td>0</td>\n",
       "      <td>45410.00</td>\n",
       "    </tr>\n",
       "    <tr>\n",
       "      <th>2</th>\n",
       "      <td>3</td>\n",
       "      <td>B80D7891-93CF-49E8-86E8-182B618E68F2</td>\n",
       "      <td>3</td>\n",
       "      <td>1315925633</td>\n",
       "      <td>392904</td>\n",
       "      <td>1315925633</td>\n",
       "      <td>392904</td>\n",
       "      <td>{\\n}</td>\n",
       "      <td>2001</td>\n",
       "      <td>445</td>\n",
       "      <td>Adams, Jackie R</td>\n",
       "      <td>5</td>\n",
       "      <td>None</td>\n",
       "      <td>7</td>\n",
       "      <td>P</td>\n",
       "      <td>11073.00</td>\n",
       "      <td>0</td>\n",
       "      <td>0</td>\n",
       "      <td>11073.00</td>\n",
       "    </tr>\n",
       "    <tr>\n",
       "      <th>3</th>\n",
       "      <td>4</td>\n",
       "      <td>BB012003-78F5-406D-8A87-7FF8A425EE3F</td>\n",
       "      <td>4</td>\n",
       "      <td>1315925633</td>\n",
       "      <td>392904</td>\n",
       "      <td>1315925633</td>\n",
       "      <td>392904</td>\n",
       "      <td>{\\n}</td>\n",
       "      <td>2001</td>\n",
       "      <td>HF</td>\n",
       "      <td>Addabbo, Joseph P</td>\n",
       "      <td>5</td>\n",
       "      <td>None</td>\n",
       "      <td>32</td>\n",
       "      <td>P</td>\n",
       "      <td>75350.00</td>\n",
       "      <td>73970.00</td>\n",
       "      <td>0</td>\n",
       "      <td>149320.00</td>\n",
       "    </tr>\n",
       "    <tr>\n",
       "      <th>4</th>\n",
       "      <td>5</td>\n",
       "      <td>945825F9-2F5D-47C2-A16B-75B93E61E1AD</td>\n",
       "      <td>5</td>\n",
       "      <td>1315925633</td>\n",
       "      <td>392904</td>\n",
       "      <td>1315925633</td>\n",
       "      <td>392904</td>\n",
       "      <td>{\\n}</td>\n",
       "      <td>2001</td>\n",
       "      <td>IR</td>\n",
       "      <td>Alamo-Estrada, Agustin</td>\n",
       "      <td>5</td>\n",
       "      <td>None</td>\n",
       "      <td>14</td>\n",
       "      <td>P</td>\n",
       "      <td>25000.00</td>\n",
       "      <td>2400.00</td>\n",
       "      <td>0</td>\n",
       "      <td>27400.00</td>\n",
       "    </tr>\n",
       "  </tbody>\n",
       "</table>\n",
       "</div>"
      ],
      "text/plain": [
       "   sid                                    id  position  created_at  \\\n",
       "0    1  E3E9CC9F-7443-43F6-94AF-B5A0F802DBA1         1  1315925633   \n",
       "1    2  9D257416-581A-4C42-85CC-B6EAD9DED97F         2  1315925633   \n",
       "2    3  B80D7891-93CF-49E8-86E8-182B618E68F2         3  1315925633   \n",
       "3    4  BB012003-78F5-406D-8A87-7FF8A425EE3F         4  1315925633   \n",
       "4    5  945825F9-2F5D-47C2-A16B-75B93E61E1AD         5  1315925633   \n",
       "\n",
       "  created_meta  updated_at updated_meta  \\\n",
       "0       392904  1315925633       392904   \n",
       "1       392904  1315925633       392904   \n",
       "2       392904  1315925633       392904   \n",
       "3       392904  1315925633       392904   \n",
       "4       392904  1315925633       392904   \n",
       "\n",
       "                                                meta ELECTION  CANDID  \\\n",
       "0  {\\n  \"invalidCells\" : {\\n    \"1519001\" : \"TOTA...     None  CANDID   \n",
       "1                                               {\\n}     2001      B4   \n",
       "2                                               {\\n}     2001     445   \n",
       "3                                               {\\n}     2001      HF   \n",
       "4                                               {\\n}     2001      IR   \n",
       "\n",
       "                 CANDNAME OFFICECD  OFFICEBORO OFFICEDIST  CANCLASS  \\\n",
       "0                CANDNAME     None  OFFICEBORO       None  CANCLASS   \n",
       "1        Aboulafia, Sandy        5        None         44         P   \n",
       "2         Adams, Jackie R        5        None          7         P   \n",
       "3       Addabbo, Joseph P        5        None         32         P   \n",
       "4  Alamo-Estrada, Agustin        5        None         14         P   \n",
       "\n",
       "  PRIMARYPAY GENERALPAY RUNOFFPAY   TOTALPAY  \n",
       "0       None       None      None       None  \n",
       "1   45410.00          0         0   45410.00  \n",
       "2   11073.00          0         0   11073.00  \n",
       "3   75350.00   73970.00         0  149320.00  \n",
       "4   25000.00    2400.00         0   27400.00  "
      ]
     },
     "execution_count": 34,
     "metadata": {},
     "output_type": "execute_result"
    }
   ],
   "source": [
    "#Your code here\n",
    "df = pd.DataFrame(data['data'])\n",
    "cols = [i['name'] for i in columns]\n",
    "df.columns = cols\n",
    "df.head()"
   ]
  },
  {
   "cell_type": "markdown",
   "metadata": {},
   "source": [
    "### What's wrong with the first row of the DataFrame?"
   ]
  },
  {
   "cell_type": "code",
   "execution_count": null,
   "metadata": {},
   "outputs": [],
   "source": [
    "#Your code here\n",
    "There is an invalid value in the meta column."
   ]
  },
  {
   "cell_type": "markdown",
   "metadata": {},
   "source": [
    "#Your answer here"
   ]
  },
  {
   "cell_type": "markdown",
   "metadata": {},
   "source": [
    "## Summary\n",
    "\n",
    "Congratulations! You've started exploring some more complicated data structures used for the web and got to practice data munging and exploring!"
   ]
  }
 ],
 "metadata": {
  "kernelspec": {
   "display_name": "Python 3",
   "language": "python",
   "name": "python3"
  },
  "language_info": {
   "codemirror_mode": {
    "name": "ipython",
    "version": 3
   },
   "file_extension": ".py",
   "mimetype": "text/x-python",
   "name": "python",
   "nbconvert_exporter": "python",
   "pygments_lexer": "ipython3",
   "version": "3.6.7"
  }
 },
 "nbformat": 4,
 "nbformat_minor": 2
}
